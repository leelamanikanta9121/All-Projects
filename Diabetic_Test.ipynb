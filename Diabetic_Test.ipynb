{
 "cells": [
  {
   "cell_type": "code",
   "execution_count": 12,
   "metadata": {
    "colab": {},
    "colab_type": "code",
    "id": "eIjxmKzsWqYB"
   },
   "outputs": [],
   "source": [
    "from keras.models import Sequential\n",
    "from keras.layers import Conv2D\n",
    "from keras.layers import MaxPooling2D\n",
    "from keras.layers import Flatten\n",
    "from keras.layers import Dense\n",
    "# Initialising the CNN\n",
    "classifier = Sequential()\n",
    "# Step 1 - Convolution\n",
    "classifier.add(Conv2D(32, (3, 3), input_shape = (256,256, 3), activation = 'relu'))\n",
    "# Step 2 - Pooling\n",
    "classifier.add(MaxPooling2D(pool_size = (2, 2)))\n",
    "# Adding a second convolutional layer\n",
    "classifier.add(Conv2D(32, (3, 3), activation = 'relu'))\n",
    "classifier.add(MaxPooling2D(pool_size = (2, 2)))\n",
    "# Step 3 - Flattening\n",
    "classifier.add(Flatten())\n",
    "# Step 4 - Full connection\n",
    "classifier.add(Dense(units = 128, activation = 'relu'))\n",
    "classifier.add(Dense(units = 1, activation = 'sigmoid'))\n",
    "# Compiling the CNN\n",
    "classifier.compile(optimizer = 'adam', loss = 'binary_crossentropy', metrics = ['accuracy'])"
   ]
  },
  {
   "cell_type": "code",
   "execution_count": 13,
   "metadata": {
    "colab": {
     "base_uri": "https://localhost:8080/",
     "height": 50
    },
    "colab_type": "code",
    "id": "QPmdewLQWqcw",
    "outputId": "b3fb0cee-5f90-4376-823a-b76277883e10"
   },
   "outputs": [
    {
     "name": "stdout",
     "output_type": "stream",
     "text": [
      "Found 42 images belonging to 2 classes.\n",
      "Found 13 images belonging to 2 classes.\n"
     ]
    }
   ],
   "source": [
    "from keras.preprocessing.image import ImageDataGenerator\n",
    "train_datagen = ImageDataGenerator(rescale = 1./255,\n",
    "shear_range = 0.2,\n",
    "zoom_range = 0.2,\n",
    "horizontal_flip = True)\n",
    "# print(train_datagen)\n",
    "test_datagen = ImageDataGenerator(rescale = 1./255)\n",
    "training_set = train_datagen.flow_from_directory('D:/diabetes/train',\n",
    "target_size = (256,256),\n",
    "batch_size = 32,\n",
    "class_mode = 'binary')\n",
    "# print(test_datagen)\n",
    "test_set = test_datagen.flow_from_directory('D:/diabetes/test',\n",
    "target_size = (256,256),\n",
    "batch_size = 32,\n",
    "class_mode = 'binary')"
   ]
  },
  {
   "cell_type": "code",
   "execution_count": 14,
   "metadata": {
    "colab": {
     "base_uri": "https://localhost:8080/",
     "height": 1000
    },
    "colab_type": "code",
    "id": "1CXpZx3AWqjm",
    "outputId": "ed1921a0-7a0d-4a21-e10d-06e3e057eaef"
   },
   "outputs": [
    {
     "name": "stdout",
     "output_type": "stream",
     "text": [
      "Epoch 1/25\n",
      "2/2 [==============================] - 2s 268ms/step - loss: 1.9594 - accuracy: 0.4048\n",
      "Epoch 2/25\n",
      "2/2 [==============================] - 1s 262ms/step - loss: 2.0828 - accuracy: 0.8095\n",
      "Epoch 3/25\n",
      "2/2 [==============================] - 1s 267ms/step - loss: 0.5568 - accuracy: 0.8095\n",
      "Epoch 4/25\n",
      "2/2 [==============================] - 1s 265ms/step - loss: 0.5665 - accuracy: 0.6905\n",
      "Epoch 5/25\n",
      "2/2 [==============================] - 1s 976ms/step - loss: 0.5639 - accuracy: 0.7143\n",
      "Epoch 6/25\n",
      "2/2 [==============================] - 1s 926ms/step - loss: 0.5006 - accuracy: 0.8095\n",
      "Epoch 7/25\n",
      "2/2 [==============================] - 1s 904ms/step - loss: 0.4223 - accuracy: 0.8095\n",
      "Epoch 8/25\n",
      "2/2 [==============================] - 1s 254ms/step - loss: 0.3797 - accuracy: 0.8095\n",
      "Epoch 9/25\n",
      "2/2 [==============================] - 1s 864ms/step - loss: 0.4322 - accuracy: 0.8095\n",
      "Epoch 10/25\n",
      "2/2 [==============================] - 1s 256ms/step - loss: 0.4203 - accuracy: 0.8095\n",
      "Epoch 11/25\n",
      "2/2 [==============================] - 1s 894ms/step - loss: 0.4442 - accuracy: 0.8095\n",
      "Epoch 12/25\n",
      "2/2 [==============================] - 1s 822ms/step - loss: 0.4214 - accuracy: 0.8095\n",
      "Epoch 13/25\n",
      "2/2 [==============================] - 1s 861ms/step - loss: 0.3725 - accuracy: 0.8095\n",
      "Epoch 14/25\n",
      "2/2 [==============================] - 1s 269ms/step - loss: 0.3867 - accuracy: 0.8095\n",
      "Epoch 15/25\n",
      "2/2 [==============================] - 1s 877ms/step - loss: 0.4112 - accuracy: 0.8095\n",
      "Epoch 16/25\n",
      "2/2 [==============================] - 1s 871ms/step - loss: 0.3899 - accuracy: 0.8095\n",
      "Epoch 17/25\n",
      "2/2 [==============================] - 1s 263ms/step - loss: 0.3770 - accuracy: 0.8095\n",
      "Epoch 18/25\n",
      "2/2 [==============================] - 1s 956ms/step - loss: 0.3793 - accuracy: 0.8095\n",
      "Epoch 19/25\n",
      "2/2 [==============================] - 1s 841ms/step - loss: 0.3583 - accuracy: 0.8095\n",
      "Epoch 20/25\n",
      "2/2 [==============================] - 1s 907ms/step - loss: 0.3720 - accuracy: 0.8095\n",
      "Epoch 21/25\n",
      "2/2 [==============================] - 1s 246ms/step - loss: 0.3547 - accuracy: 0.8095\n",
      "Epoch 22/25\n",
      "2/2 [==============================] - 1s 891ms/step - loss: 0.3258 - accuracy: 0.8095\n",
      "Epoch 23/25\n",
      "2/2 [==============================] - 1s 923ms/step - loss: 0.3538 - accuracy: 0.8095\n",
      "Epoch 24/25\n",
      "2/2 [==============================] - 2s 1s/step - loss: 0.2843 - accuracy: 0.8333\n",
      "Epoch 25/25\n",
      "2/2 [==============================] - 1s 262ms/step - loss: 0.3192 - accuracy: 0.8333\n"
     ]
    }
   ],
   "source": [
    "batch_size=8\n",
    "model_info=classifier.fit(training_set, batch_size = 128, \n",
    "                    epochs = 25)\n",
    "# classifier.fit_generator(training_set,\n",
    "# steps_per_epoch = int(round(42/batch_size)),\n",
    "# epochs = 5,\n",
    "# validation_data = test_set,\n",
    "# validation_steps = 30/batch_size)"
   ]
  },
  {
   "cell_type": "code",
   "execution_count": 15,
   "metadata": {
    "colab": {
     "base_uri": "https://localhost:8080/",
     "height": 50
    },
    "colab_type": "code",
    "id": "2lxtoeoNWrEE",
    "outputId": "87250923-9f6d-4815-8fff-d043831ac6b5"
   },
   "outputs": [
    {
     "name": "stderr",
     "output_type": "stream",
     "text": [
      "<ipython-input-15-3fa260b8e9c2>:3: UserWarning: `Model.evaluate_generator` is deprecated and will be removed in a future version. Please use `Model.evaluate`, which supports generators.\n",
      "  score = classifier.evaluate_generator(test_set,40/batch_size)\n"
     ]
    },
    {
     "name": "stdout",
     "output_type": "stream",
     "text": [
      "WARNING:tensorflow:Your input ran out of data; interrupting training. Make sure that your dataset or generator can generate at least `steps_per_epoch * epochs` batches (in this case, 5.0 batches). You may need to use the repeat() function when building your dataset.\n",
      " Total:  13\n",
      "Loss:  0.46232202649116516 Accuracy:  0.6153846383094788\n"
     ]
    }
   ],
   "source": [
    "### Performance evaluation\n",
    "#########################\n",
    "score = classifier.evaluate_generator(test_set,40/batch_size)\n",
    "print(\" Total: \", len(test_set.filenames))\n",
    "print(\"Loss: \", score[0], \"Accuracy: \", score[1])\n",
    "#print(\"Accuracy = \",score[1])"
   ]
  },
  {
   "cell_type": "code",
   "execution_count": 16,
   "metadata": {
    "colab": {},
    "colab_type": "code",
    "id": "HObOH9HcWrCG"
   },
   "outputs": [],
   "source": [
    "classifier.save('diabetesmodel.h5')"
   ]
  },
  {
   "cell_type": "code",
   "execution_count": 17,
   "metadata": {
    "colab": {},
    "colab_type": "code",
    "id": "jmMbfguSaAg9"
   },
   "outputs": [],
   "source": [
    "import os\n",
    "from keras.models import load_model\n",
    "from PIL import Image\n",
    "from keras.preprocessing import image\n",
    "import numpy as np\n",
    "import cv2"
   ]
  },
  {
   "cell_type": "code",
   "execution_count": 18,
   "metadata": {
    "colab": {
     "base_uri": "https://localhost:8080/",
     "height": 34
    },
    "colab_type": "code",
    "id": "5HLo3AcCZ3Pt",
    "outputId": "2fb51f43-924e-4c30-9406-e0cd266a8917"
   },
   "outputs": [
    {
     "name": "stdout",
     "output_type": "stream",
     "text": [
      "model loaded\n"
     ]
    }
   ],
   "source": [
    "target_size = (256,256)\n",
    "model=load_model('diabetesmodel.h5')\n",
    "print(\"model loaded\")\n"
   ]
  },
  {
   "cell_type": "code",
   "execution_count": 19,
   "metadata": {
    "colab": {
     "base_uri": "https://localhost:8080/",
     "height": 34
    },
    "colab_type": "code",
    "id": "tBYT79eYWq_2",
    "outputId": "1095a74d-cdda-4205-8b18-6e03fb1e4c4b"
   },
   "outputs": [
    {
     "name": "stdout",
     "output_type": "stream",
     "text": [
      "Affecting with Diabetes retinopathy\n"
     ]
    }
   ],
   "source": [
    "import numpy as np\n",
    "from keras.preprocessing import image\n",
    "test_image = image.load_img('D:/diabetes/train/class0/image.30.jpg', target_size = (256,256))\n",
    "test_image = image.img_to_array(test_image)\n",
    "test_image = np.expand_dims(test_image, axis = 0)\n",
    "result = model.predict(test_image)\n",
    "training_set.class_indices\n",
    "if result[0][0] == 1:\n",
    " print(\"Affecting with Diabetes retinopathy\")\n",
    "else:\n",
    " print(\"Not Affecting with Diabetes retinopathy\")\n"
   ]
  },
  {
   "cell_type": "code",
   "execution_count": 20,
   "metadata": {
    "colab": {
     "base_uri": "https://localhost:8080/",
     "height": 34
    },
    "colab_type": "code",
    "id": "YJ54sOruaOsX",
    "outputId": "cab71ecd-28ce-4953-b3f3-644c69a0d9b1"
   },
   "outputs": [
    {
     "name": "stdout",
     "output_type": "stream",
     "text": [
      "Affecting with Diabetes retinopathy\n"
     ]
    }
   ],
   "source": [
    "import numpy as np\n",
    "from keras.preprocessing import image\n",
    "test_image = image.load_img('D:\\design project\\segmented vessels\\im0001.net.gif', target_size = (256,256))\n",
    "test_image = image.img_to_array(test_image)\n",
    "test_image = np.expand_dims(test_image, axis = 0)\n",
    "result = model.predict(test_image)\n",
    "training_set.class_indices\n",
    "if result[0][0] == 1:\n",
    " print(\"Affecting with Diabetes retinopathy\")\n",
    "else:\n",
    " print(\"Not Affecting with Diabetes retinopathy\")\n"
   ]
  },
  {
   "cell_type": "markdown",
   "metadata": {},
   "source": [
    "# "
   ]
  },
  {
   "cell_type": "code",
   "execution_count": null,
   "metadata": {},
   "outputs": [],
   "source": []
  },
  {
   "cell_type": "code",
   "execution_count": null,
   "metadata": {},
   "outputs": [],
   "source": []
  }
 ],
 "metadata": {
  "accelerator": "GPU",
  "colab": {
   "name": "Copy of Copy of GlaucomaTest.ipynb",
   "provenance": []
  },
  "kernelspec": {
   "display_name": "Python 3",
   "language": "python",
   "name": "python3"
  },
  "language_info": {
   "codemirror_mode": {
    "name": "ipython",
    "version": 3
   },
   "file_extension": ".py",
   "mimetype": "text/x-python",
   "name": "python",
   "nbconvert_exporter": "python",
   "pygments_lexer": "ipython3",
   "version": "3.8.8"
  }
 },
 "nbformat": 4,
 "nbformat_minor": 1
}
